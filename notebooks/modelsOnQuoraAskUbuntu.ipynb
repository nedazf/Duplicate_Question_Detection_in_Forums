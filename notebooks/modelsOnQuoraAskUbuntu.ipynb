{
  "nbformat": 4,
  "nbformat_minor": 0,
  "metadata": {
    "colab": {
      "name": "combiningDatasets.ipynb",
      "version": "0.3.2",
      "provenance": []
    },
    "kernelspec": {
      "name": "python3",
      "display_name": "Python 3"
    },
    "accelerator": "GPU"
  },
  "cells": [
    {
      "metadata": {
        "id": "r-jS-0Q3Glmw",
        "colab_type": "code",
        "colab": {}
      },
      "cell_type": "code",
      "source": [
        "import nltk\n",
        "import pandas as pd"
      ],
      "execution_count": 0,
      "outputs": []
    },
    {
      "metadata": {
        "id": "hn-rg-QbN9z_",
        "colab_type": "code",
        "outputId": "bb661a60-8110-4b01-d637-15f09b4697d7",
        "colab": {
          "base_uri": "https://localhost:8080/",
          "height": 221
        }
      },
      "cell_type": "code",
      "source": [
        "# Import preprocessed quora and ask ubuntu datasets\n",
        "quora_df = pd.read_csv('preprocessed_Quora.csv', sep='\\t', )\n",
        "print(quora_df.shape)\n",
        "quora_df.head()"
      ],
      "execution_count": 5,
      "outputs": [
        {
          "output_type": "stream",
          "text": [
            "(404287, 3)\n"
          ],
          "name": "stdout"
        },
        {
          "output_type": "execute_result",
          "data": {
            "text/html": [
              "<div>\n",
              "<style scoped>\n",
              "    .dataframe tbody tr th:only-of-type {\n",
              "        vertical-align: middle;\n",
              "    }\n",
              "\n",
              "    .dataframe tbody tr th {\n",
              "        vertical-align: top;\n",
              "    }\n",
              "\n",
              "    .dataframe thead th {\n",
              "        text-align: right;\n",
              "    }\n",
              "</style>\n",
              "<table border=\"1\" class=\"dataframe\">\n",
              "  <thead>\n",
              "    <tr style=\"text-align: right;\">\n",
              "      <th></th>\n",
              "      <th>is_duplicate</th>\n",
              "      <th>question1</th>\n",
              "      <th>question2</th>\n",
              "    </tr>\n",
              "  </thead>\n",
              "  <tbody>\n",
              "    <tr>\n",
              "      <th>0</th>\n",
              "      <td>0</td>\n",
              "      <td>step by step guide invest in share market in i...</td>\n",
              "      <td>step by step guide invest in share market</td>\n",
              "    </tr>\n",
              "    <tr>\n",
              "      <th>1</th>\n",
              "      <td>0</td>\n",
              "      <td>story kohinoor kohinoor diamond</td>\n",
              "      <td>would happen indian government stole kohinoor ...</td>\n",
              "    </tr>\n",
              "    <tr>\n",
              "      <th>2</th>\n",
              "      <td>0</td>\n",
              "      <td>how can i increase speed my internet connectio...</td>\n",
              "      <td>how can internet speed be increased by hacking...</td>\n",
              "    </tr>\n",
              "    <tr>\n",
              "      <th>3</th>\n",
              "      <td>0</td>\n",
              "      <td>why am i mentally very lonely how can i solve it</td>\n",
              "      <td>find remainder when math2324math divided by 2423</td>\n",
              "    </tr>\n",
              "    <tr>\n",
              "      <th>4</th>\n",
              "      <td>0</td>\n",
              "      <td>one dissolve in water quikly sugar salt methan...</td>\n",
              "      <td>fish would survive in salt water</td>\n",
              "    </tr>\n",
              "  </tbody>\n",
              "</table>\n",
              "</div>"
            ],
            "text/plain": [
              "   is_duplicate                                          question1  \\\n",
              "0             0  step by step guide invest in share market in i...   \n",
              "1             0                    story kohinoor kohinoor diamond   \n",
              "2             0  how can i increase speed my internet connectio...   \n",
              "3             0   why am i mentally very lonely how can i solve it   \n",
              "4             0  one dissolve in water quikly sugar salt methan...   \n",
              "\n",
              "                                           question2  \n",
              "0          step by step guide invest in share market  \n",
              "1  would happen indian government stole kohinoor ...  \n",
              "2  how can internet speed be increased by hacking...  \n",
              "3   find remainder when math2324math divided by 2423  \n",
              "4                   fish would survive in salt water  "
            ]
          },
          "metadata": {
            "tags": []
          },
          "execution_count": 5
        }
      ]
    },
    {
      "metadata": {
        "id": "tmuwkCZ7FV8L",
        "colab_type": "code",
        "colab": {
          "base_uri": "https://localhost:8080/",
          "height": 221
        },
        "outputId": "2229e1ce-24e9-49b0-a34d-277aeea0a07c"
      },
      "cell_type": "code",
      "source": [
        "askubuntu_df = pd.read_csv('preprocessed_AskUbuntu.csv', sep='\\t')\n",
        "print(askubuntu_df.shape)\n",
        "askubuntu_df.head()"
      ],
      "execution_count": 6,
      "outputs": [
        {
          "output_type": "stream",
          "text": [
            "(36947, 3)\n"
          ],
          "name": "stdout"
        },
        {
          "output_type": "execute_result",
          "data": {
            "text/html": [
              "<div>\n",
              "<style scoped>\n",
              "    .dataframe tbody tr th:only-of-type {\n",
              "        vertical-align: middle;\n",
              "    }\n",
              "\n",
              "    .dataframe tbody tr th {\n",
              "        vertical-align: top;\n",
              "    }\n",
              "\n",
              "    .dataframe thead th {\n",
              "        text-align: right;\n",
              "    }\n",
              "</style>\n",
              "<table border=\"1\" class=\"dataframe\">\n",
              "  <thead>\n",
              "    <tr style=\"text-align: right;\">\n",
              "      <th></th>\n",
              "      <th>is_duplicate</th>\n",
              "      <th>question1</th>\n",
              "      <th>question2</th>\n",
              "    </tr>\n",
              "  </thead>\n",
              "  <tbody>\n",
              "    <tr>\n",
              "      <th>0</th>\n",
              "      <td>1</td>\n",
              "      <td>why does badsiggpg error keep appearing again ...</td>\n",
              "      <td>how fix gpg errorbadsig running aptget update</td>\n",
              "    </tr>\n",
              "    <tr>\n",
              "      <th>1</th>\n",
              "      <td>1</td>\n",
              "      <td>how remove wubi installed ubuntu without affec...</td>\n",
              "      <td>how do i uninstall ubuntu wubi</td>\n",
              "    </tr>\n",
              "    <tr>\n",
              "      <th>2</th>\n",
              "      <td>1</td>\n",
              "      <td>english dictionary in libreoffice</td>\n",
              "      <td>how install libreoffice language tools spellin...</td>\n",
              "    </tr>\n",
              "    <tr>\n",
              "      <th>3</th>\n",
              "      <td>1</td>\n",
              "      <td>start problem with radeon</td>\n",
              "      <td>unable boot 1110 due graphic driver problem wi...</td>\n",
              "    </tr>\n",
              "    <tr>\n",
              "      <th>4</th>\n",
              "      <td>1</td>\n",
              "      <td>how view ubuntu files from windows</td>\n",
              "      <td>how read ext4 partitions in windows</td>\n",
              "    </tr>\n",
              "  </tbody>\n",
              "</table>\n",
              "</div>"
            ],
            "text/plain": [
              "   is_duplicate                                          question1  \\\n",
              "0             1  why does badsiggpg error keep appearing again ...   \n",
              "1             1  how remove wubi installed ubuntu without affec...   \n",
              "2             1                  english dictionary in libreoffice   \n",
              "3             1                          start problem with radeon   \n",
              "4             1                 how view ubuntu files from windows   \n",
              "\n",
              "                                           question2  \n",
              "0      how fix gpg errorbadsig running aptget update  \n",
              "1                     how do i uninstall ubuntu wubi  \n",
              "2  how install libreoffice language tools spellin...  \n",
              "3  unable boot 1110 due graphic driver problem wi...  \n",
              "4                how read ext4 partitions in windows  "
            ]
          },
          "metadata": {
            "tags": []
          },
          "execution_count": 6
        }
      ]
    },
    {
      "metadata": {
        "id": "o7RDWWZcGBDo",
        "colab_type": "code",
        "colab": {
          "base_uri": "https://localhost:8080/",
          "height": 238
        },
        "outputId": "f2090214-7cb5-4196-813f-8fe2c1b53c7d"
      },
      "cell_type": "code",
      "source": [
        "final_df = pd.concat([quora_df, askubuntu_df], ignore_index=True)\n",
        "print(final_df.shape)\n",
        "print(type(final_df))\n",
        "final_df.head()"
      ],
      "execution_count": 33,
      "outputs": [
        {
          "output_type": "stream",
          "text": [
            "(441234, 3)\n",
            "<class 'pandas.core.frame.DataFrame'>\n"
          ],
          "name": "stdout"
        },
        {
          "output_type": "execute_result",
          "data": {
            "text/html": [
              "<div>\n",
              "<style scoped>\n",
              "    .dataframe tbody tr th:only-of-type {\n",
              "        vertical-align: middle;\n",
              "    }\n",
              "\n",
              "    .dataframe tbody tr th {\n",
              "        vertical-align: top;\n",
              "    }\n",
              "\n",
              "    .dataframe thead th {\n",
              "        text-align: right;\n",
              "    }\n",
              "</style>\n",
              "<table border=\"1\" class=\"dataframe\">\n",
              "  <thead>\n",
              "    <tr style=\"text-align: right;\">\n",
              "      <th></th>\n",
              "      <th>is_duplicate</th>\n",
              "      <th>question1</th>\n",
              "      <th>question2</th>\n",
              "    </tr>\n",
              "  </thead>\n",
              "  <tbody>\n",
              "    <tr>\n",
              "      <th>0</th>\n",
              "      <td>0</td>\n",
              "      <td>step by step guide invest in share market in i...</td>\n",
              "      <td>step by step guide invest in share market</td>\n",
              "    </tr>\n",
              "    <tr>\n",
              "      <th>1</th>\n",
              "      <td>0</td>\n",
              "      <td>story kohinoor kohinoor diamond</td>\n",
              "      <td>would happen indian government stole kohinoor ...</td>\n",
              "    </tr>\n",
              "    <tr>\n",
              "      <th>2</th>\n",
              "      <td>0</td>\n",
              "      <td>how can i increase speed my internet connectio...</td>\n",
              "      <td>how can internet speed be increased by hacking...</td>\n",
              "    </tr>\n",
              "    <tr>\n",
              "      <th>3</th>\n",
              "      <td>0</td>\n",
              "      <td>why am i mentally very lonely how can i solve it</td>\n",
              "      <td>find remainder when math2324math divided by 2423</td>\n",
              "    </tr>\n",
              "    <tr>\n",
              "      <th>4</th>\n",
              "      <td>0</td>\n",
              "      <td>one dissolve in water quikly sugar salt methan...</td>\n",
              "      <td>fish would survive in salt water</td>\n",
              "    </tr>\n",
              "  </tbody>\n",
              "</table>\n",
              "</div>"
            ],
            "text/plain": [
              "   is_duplicate                                          question1  \\\n",
              "0             0  step by step guide invest in share market in i...   \n",
              "1             0                    story kohinoor kohinoor diamond   \n",
              "2             0  how can i increase speed my internet connectio...   \n",
              "3             0   why am i mentally very lonely how can i solve it   \n",
              "4             0  one dissolve in water quikly sugar salt methan...   \n",
              "\n",
              "                                           question2  \n",
              "0          step by step guide invest in share market  \n",
              "1  would happen indian government stole kohinoor ...  \n",
              "2  how can internet speed be increased by hacking...  \n",
              "3   find remainder when math2324math divided by 2423  \n",
              "4                   fish would survive in salt water  "
            ]
          },
          "metadata": {
            "tags": []
          },
          "execution_count": 33
        }
      ]
    },
    {
      "metadata": {
        "id": "ag_WODCSGp2u",
        "colab_type": "code",
        "colab": {
          "base_uri": "https://localhost:8080/",
          "height": 374
        },
        "outputId": "3898d4e0-e41f-49e3-f030-d146f4f69304"
      },
      "cell_type": "code",
      "source": [
        "final_df.groupby(\"is_duplicate\").size().plot.bar()"
      ],
      "execution_count": 8,
      "outputs": [
        {
          "output_type": "execute_result",
          "data": {
            "text/plain": [
              "<matplotlib.axes._subplots.AxesSubplot at 0x7fc208da52e8>"
            ]
          },
          "metadata": {
            "tags": []
          },
          "execution_count": 8
        },
        {
          "output_type": "display_data",
          "data": {
            "image/png": "[encoded data removed]",
            "text/plain": [
              "<Figure size 576x396 with 1 Axes>"
            ]
          },
          "metadata": {
            "tags": []
          }
        }
      ]
    },
    {
      "metadata": {
        "id": "7jRO7TYcHGMQ",
        "colab_type": "code",
        "colab": {
          "base_uri": "https://localhost:8080/",
          "height": 238
        },
        "outputId": "c777f42f-ce30-44ba-e627-5fcb8045e754"
      },
      "cell_type": "code",
      "source": [
        "# Divide final dataframe into test and train datasets\n",
        "df = final_df.sample(frac=1)\n",
        "print(type(df))\n",
        "print(df.shape)\n",
        "df.head()"
      ],
      "execution_count": 34,
      "outputs": [
        {
          "output_type": "stream",
          "text": [
            "<class 'pandas.core.frame.DataFrame'>\n",
            "(441234, 3)\n"
          ],
          "name": "stdout"
        },
        {
          "output_type": "execute_result",
          "data": {
            "text/html": [
              "<div>\n",
              "<style scoped>\n",
              "    .dataframe tbody tr th:only-of-type {\n",
              "        vertical-align: middle;\n",
              "    }\n",
              "\n",
              "    .dataframe tbody tr th {\n",
              "        vertical-align: top;\n",
              "    }\n",
              "\n",
              "    .dataframe thead th {\n",
              "        text-align: right;\n",
              "    }\n",
              "</style>\n",
              "<table border=\"1\" class=\"dataframe\">\n",
              "  <thead>\n",
              "    <tr style=\"text-align: right;\">\n",
              "      <th></th>\n",
              "      <th>is_duplicate</th>\n",
              "      <th>question1</th>\n",
              "      <th>question2</th>\n",
              "    </tr>\n",
              "  </thead>\n",
              "  <tbody>\n",
              "    <tr>\n",
              "      <th>370822</th>\n",
              "      <td>0</td>\n",
              "      <td>are some good documentaries jesus bible</td>\n",
              "      <td>are best documentaries jesuss life</td>\n",
              "    </tr>\n",
              "    <tr>\n",
              "      <th>166738</th>\n",
              "      <td>0</td>\n",
              "      <td>do you think new design on quora july 2013</td>\n",
              "      <td>do you like quoras new design</td>\n",
              "    </tr>\n",
              "    <tr>\n",
              "      <th>50925</th>\n",
              "      <td>1</td>\n",
              "      <td>are balaji vishwanathans views on astrology</td>\n",
              "      <td>does balaji viswanathan feel astrology</td>\n",
              "    </tr>\n",
              "    <tr>\n",
              "      <th>193124</th>\n",
              "      <td>0</td>\n",
              "      <td>are some tips on making it job interview proce...</td>\n",
              "      <td>are some tips on making it job interview proce...</td>\n",
              "    </tr>\n",
              "    <tr>\n",
              "      <th>245517</th>\n",
              "      <td>0</td>\n",
              "      <td>does masturbation affects our health fertility</td>\n",
              "      <td>how harmful unhealthy masturbation</td>\n",
              "    </tr>\n",
              "  </tbody>\n",
              "</table>\n",
              "</div>"
            ],
            "text/plain": [
              "        is_duplicate                                          question1  \\\n",
              "370822             0            are some good documentaries jesus bible   \n",
              "166738             0         do you think new design on quora july 2013   \n",
              "50925              1        are balaji vishwanathans views on astrology   \n",
              "193124             0  are some tips on making it job interview proce...   \n",
              "245517             0     does masturbation affects our health fertility   \n",
              "\n",
              "                                                question2  \n",
              "370822                 are best documentaries jesuss life  \n",
              "166738                      do you like quoras new design  \n",
              "50925              does balaji viswanathan feel astrology  \n",
              "193124  are some tips on making it job interview proce...  \n",
              "245517                 how harmful unhealthy masturbation  "
            ]
          },
          "metadata": {
            "tags": []
          },
          "execution_count": 34
        }
      ]
    },
    {
      "metadata": {
        "id": "m9v5c9s7G2-c",
        "colab_type": "text"
      },
      "cell_type": "markdown",
      "source": [
        "## **BOW + Xgboost Model**"
      ]
    },
    {
      "metadata": {
        "id": "J4yTLmiJG11G",
        "colab_type": "code",
        "colab": {
          "base_uri": "https://localhost:8080/",
          "height": 68
        },
        "outputId": "18260beb-59ee-40b9-b287-50bbe081bfe7"
      },
      "cell_type": "code",
      "source": [
        "from sklearn.feature_extraction.text import TfidfVectorizer, CountVectorizer\n",
        "import numpy as np\n",
        "from sklearn.model_selection import train_test_split\n",
        "import scipy\n",
        "import xgboost as xgb\n",
        "\n",
        "count_vect = CountVectorizer(analyzer='word', token_pattern=r'\\w{1,}')\n",
        "concatQues = pd.concat((df['question1'],df['question2'])).unique()\n",
        "concatQues = pd.Series(concatQues)\n",
        "count_vect.fit(concatQues.values.astype('U'))\n",
        "trainq1_trans = count_vect.transform(df['question1'].values.astype('U'))\n",
        "trainq2_trans = count_vect.transform(df['question2'].values.astype('U'))\n",
        "labels = df['is_duplicate'].values\n",
        "X = scipy.sparse.hstack((trainq1_trans,trainq2_trans))\n",
        "Y = labels\n",
        "X_train,X_valid,Y_train,Y_valid = train_test_split(X,Y, test_size = 0.33, random_state = 42)\n",
        "print(X_train.shape)\n",
        "print(X_valid.shape)\n",
        "xgb_model = xgb.XGBClassifier(max_depth=50, n_estimators=80, learning_rate=0.1, colsample_bytree=.7, gamma=0, reg_alpha=4, objective='binary:logistic', eta=0.3, silent=1, subsample=0.8).fit(X_train, y_train) \n",
        "xgb_prediction = xgb_model.predict(X_valid)\n",
        "print(xgb_prediction)"
      ],
      "execution_count": 56,
      "outputs": [
        {
          "output_type": "stream",
          "text": [
            "(295626, 232024)\n",
            "(145608, 232024)\n",
            "[1 1 1 ... 0 0 0]\n"
          ],
          "name": "stdout"
        }
      ]
    },
    {
      "metadata": {
        "id": "IE6KZ2aZYSdb",
        "colab_type": "code",
        "colab": {
          "base_uri": "https://localhost:8080/",
          "height": 204
        },
        "outputId": "b190bcc0-59ca-4bcc-bc07-8c28d6fb20d4"
      },
      "cell_type": "code",
      "source": [
        "from sklearn.metrics import f1_score, classification_report, accuracy_score\n",
        "\n",
        "print('training score:', f1_score(y_train, xgb_model.predict(X_train), average='macro'))\n",
        "print('validation score:', f1_score(y_valid, xgb_model.predict(X_valid), average='macro'))\n",
        "print(classification_report(y_valid, xgb_prediction))"
      ],
      "execution_count": 57,
      "outputs": [
        {
          "output_type": "stream",
          "text": [
            "training score: 0.8024832069232679\n",
            "validation score: 0.7624650825629291\n",
            "              precision    recall  f1-score   support\n",
            "\n",
            "           0       0.76      0.90      0.82     84146\n",
            "           1       0.82      0.61      0.70     61462\n",
            "\n",
            "   micro avg       0.78      0.78      0.78    145608\n",
            "   macro avg       0.79      0.76      0.76    145608\n",
            "weighted avg       0.79      0.78      0.77    145608\n",
            "\n"
          ],
          "name": "stdout"
        }
      ]
    },
    {
      "metadata": {
        "id": "z7Rs6YNAZC27",
        "colab_type": "code",
        "colab": {}
      },
      "cell_type": "code",
      "source": [
        "import pickle\n",
        "filename = 'bow_xgboost_model.sav'\n",
        "pickle.dump(xgb_model, open(filename, 'wb'))\n",
        " \n",
        "# load the model from disk\n",
        "# loaded_model = pickle.load(open(filename, 'rb'))"
      ],
      "execution_count": 0,
      "outputs": []
    },
    {
      "metadata": {
        "id": "3BpKc9OEZ1On",
        "colab_type": "text"
      },
      "cell_type": "markdown",
      "source": [
        "## Word level Tf-idf"
      ]
    },
    {
      "metadata": {
        "id": "LjwENDXnZ7S7",
        "colab_type": "code",
        "colab": {}
      },
      "cell_type": "code",
      "source": [
        "tfidf_vect = TfidfVectorizer(analyzer='word', token_pattern=r'\\w{1,}', max_features=5000)\n",
        "concatQues = pd.concat((df['question1'],df['question2'])).unique()\n",
        "concatQues = pd.Series(concatQues)\n",
        "tfidf_vect.fit(concatQues.values.astype('U'))\n",
        "trainq1_trans = tfidf_vect.transform(df['question1'].values.astype('U'))\n",
        "trainq2_trans = tfidf_vect.transform(df['question2'].values.astype('U'))\n",
        "labels = df['is_duplicate'].values\n",
        "X = scipy.sparse.hstack((trainq1_trans,trainq2_trans))\n",
        "y = labels\n",
        "X_train,X_valid,y_train,y_valid = train_test_split(X,y, test_size = 0.33, random_state = 42)"
      ],
      "execution_count": 0,
      "outputs": []
    },
    {
      "metadata": {
        "id": "DewxrkvNa-3g",
        "colab_type": "code",
        "colab": {
          "base_uri": "https://localhost:8080/",
          "height": 204
        },
        "outputId": "3730010e-c024-4f4a-e190-f86566ec34a2"
      },
      "cell_type": "code",
      "source": [
        "from sklearn.metrics import f1_score, classification_report, accuracy_score\n",
        "xgb_model = xgb.XGBClassifier(max_depth=50, n_estimators=80, learning_rate=0.1, colsample_bytree=.7, gamma=0, reg_alpha=4, objective='binary:logistic', eta=0.3, silent=1, subsample=0.8).fit(X_train, y_train) \n",
        "filename = 'word_tfidf_model.sav'\n",
        "pickle.dump(xgb_model, open(filename, 'wb'))\n",
        "xgb_prediction = xgb_model.predict(X_valid)\n",
        "print('word level tf-idf training score:', f1_score(y_train, xgb_model.predict(X_train), average='macro'))\n",
        "print('word level tf-idf validation score:', f1_score(y_valid, xgb_model.predict(X_valid), average='macro'))\n",
        "print(classification_report(y_valid, xgb_prediction))"
      ],
      "execution_count": 60,
      "outputs": [
        {
          "output_type": "stream",
          "text": [
            "word level tf-idf training score: 0.8372299798607095\n",
            "word level tf-idf validation score: 0.7671235861855303\n",
            "              precision    recall  f1-score   support\n",
            "\n",
            "           0       0.76      0.90      0.83     84146\n",
            "           1       0.82      0.62      0.71     61462\n",
            "\n",
            "   micro avg       0.78      0.78      0.78    145608\n",
            "   macro avg       0.79      0.76      0.77    145608\n",
            "weighted avg       0.79      0.78      0.78    145608\n",
            "\n"
          ],
          "name": "stdout"
        }
      ]
    },
    {
      "metadata": {
        "id": "a51zpNrLeR7I",
        "colab_type": "text"
      },
      "cell_type": "markdown",
      "source": [
        "## N-gram Level TF-IDF"
      ]
    },
    {
      "metadata": {
        "id": "0O9MLCDneQ-F",
        "colab_type": "code",
        "colab": {}
      },
      "cell_type": "code",
      "source": [
        "tfidf_vect_ngram = TfidfVectorizer(analyzer='word', token_pattern=r'\\w{1,}', ngram_range=(2,3), max_features=5000)\n",
        "concatQues = pd.concat((df['question1'],df['question2'])).unique()\n",
        "concatQues = pd.Series(concatQues)\n",
        "tfidf_vect_ngram.fit(concatQues.values.astype('U'))\n",
        "train_q1 = tfidf_vect_ngram.transform(df['question1'].values.astype('U'))\n",
        "train_q2 = tfidf_vect_ngram.transform(df['question2'].values.astype('U'))\n",
        "labels = df['is_duplicate'].values\n",
        "X = scipy.sparse.hstack((train_q1,train_q2))\n",
        "y = labels\n",
        "X_train,X_valid,y_train,y_valid = train_test_split(X,y, test_size = 0.33, random_state = 42)"
      ],
      "execution_count": 0,
      "outputs": []
    },
    {
      "metadata": {
        "id": "MdLnQfxgfO6p",
        "colab_type": "code",
        "colab": {
          "base_uri": "https://localhost:8080/",
          "height": 204
        },
        "outputId": "4796efd1-b835-444c-a3b5-049378f848c7"
      },
      "cell_type": "code",
      "source": [
        "xgb_model = xgb.XGBClassifier(max_depth=50, n_estimators=80, learning_rate=0.1, colsample_bytree=.7, gamma=0, reg_alpha=4, objective='binary:logistic', eta=0.3, silent=1, subsample=0.8).fit(X_train, y_train) \n",
        "filename = 'ngram_tfidf_model.sav'\n",
        "pickle.dump(xgb_model, open(filename, 'wb'))\n",
        "xgb_prediction = xgb_model.predict(X_valid)\n",
        "print('n-gram level tf-idf training score:', f1_score(y_train, xgb_model.predict(X_train), average='macro'))\n",
        "print('n-gram level tf-idf validation score:', f1_score(y_valid, xgb_model.predict(X_valid), average='macro'))\n",
        "print(classification_report(y_valid, xgb_prediction))"
      ],
      "execution_count": 62,
      "outputs": [
        {
          "output_type": "stream",
          "text": [
            "n-gram level tf-idf training score: 0.6939196766079507\n",
            "n-gram level tf-idf validation score: 0.6655056493823306\n",
            "              precision    recall  f1-score   support\n",
            "\n",
            "           0       0.68      0.93      0.79     84146\n",
            "           1       0.81      0.41      0.54     61462\n",
            "\n",
            "   micro avg       0.71      0.71      0.71    145608\n",
            "   macro avg       0.74      0.67      0.67    145608\n",
            "weighted avg       0.73      0.71      0.68    145608\n",
            "\n"
          ],
          "name": "stdout"
        }
      ]
    },
    {
      "metadata": {
        "id": "LhUNd64qgqBN",
        "colab_type": "text"
      },
      "cell_type": "markdown",
      "source": [
        "## Character Level TF-IDF"
      ]
    },
    {
      "metadata": {
        "id": "HQDmHjXggpLK",
        "colab_type": "code",
        "colab": {
          "base_uri": "https://localhost:8080/",
          "height": 204
        },
        "outputId": "7ba0beb4-f750-4ac7-a73c-17c0c78df803"
      },
      "cell_type": "code",
      "source": [
        "from sklearn.metrics import f1_score, classification_report, accuracy_score\n",
        "tfidf_vect_ngram_chars = TfidfVectorizer(analyzer='char', token_pattern=r'\\w{1,}', ngram_range=(2,3), max_features=5000)\n",
        "concatQues = pd.concat((df['question1'],df['question2'])).unique()\n",
        "concatQues = pd.Series(concatQues)\n",
        "tfidf_vect_ngram_chars.fit(concatQues.values.astype('U'))\n",
        "train_q1 = tfidf_vect_ngram_chars.transform(df['question1'].values.astype('U'))\n",
        "train_q2 = tfidf_vect_ngram_chars.transform(df['question2'].values.astype('U'))\n",
        "labels = df['is_duplicate'].values\n",
        "X = scipy.sparse.hstack((train_q1,train_q2))\n",
        "y = labels\n",
        "X_train,X_valid,y_train,y_valid = train_test_split(X,y, test_size = 0.33, random_state = 42)\n",
        "xgb_model = xgb.XGBClassifier(max_depth=50, n_estimators=80, learning_rate=0.1, colsample_bytree=.7, gamma=0, reg_alpha=4, objective='binary:logistic', eta=0.3, silent=1, subsample=0.8).fit(X_train, y_train) \n",
        "filename = 'char_tfidf_model.sav'\n",
        "pickle.dump(xgb_model, open(filename, 'wb'))\n",
        "xgb_prediction = xgb_model.predict(X_valid)\n",
        "print('character level tf-idf training score:', f1_score(y_train, xgb_model.predict(X_train), average='macro'))\n",
        "print('character level tf-idf validation score:', f1_score(y_valid, xgb_model.predict(X_valid), average='macro'))\n",
        "print(classification_report(y_valid, xgb_prediction))"
      ],
      "execution_count": 64,
      "outputs": [
        {
          "output_type": "stream",
          "text": [
            "character level tf-idf training score: 0.9928387652283919\n",
            "character level tf-idf validation score: 0.8168140099820946\n",
            "              precision    recall  f1-score   support\n",
            "\n",
            "           0       0.82      0.90      0.86     84146\n",
            "           1       0.84      0.72      0.78     61462\n",
            "\n",
            "   micro avg       0.83      0.83      0.83    145608\n",
            "   macro avg       0.83      0.81      0.82    145608\n",
            "weighted avg       0.83      0.83      0.82    145608\n",
            "\n"
          ],
          "name": "stdout"
        }
      ]
    }
  ]
}