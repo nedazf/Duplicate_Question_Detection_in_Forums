{
 "cells": [
  {
   "cell_type": "code",
   "execution_count": 0,
   "metadata": {
    "colab": {},
    "colab_type": "code",
    "id": "-MbcajnE7sGL"
   },
   "outputs": [],
   "source": [
    "import nltk\n",
    "import pandas as pd"
   ]
  },
  {
   "cell_type": "code",
   "execution_count": 2,
   "metadata": {
    "colab": {
     "base_uri": "https://localhost:8080/",
     "height": 204
    },
    "colab_type": "code",
    "id": "rCtX_zQ78JWn",
    "outputId": "82a1cb99-ef2e-4cc3-a4f6-0827839687af"
   },
   "outputs": [
    {
     "data": {
      "text/html": [
       "<div>\n",
       "<style scoped>\n",
       "    .dataframe tbody tr th:only-of-type {\n",
       "        vertical-align: middle;\n",
       "    }\n",
       "\n",
       "    .dataframe tbody tr th {\n",
       "        vertical-align: top;\n",
       "    }\n",
       "\n",
       "    .dataframe thead th {\n",
       "        text-align: right;\n",
       "    }\n",
       "</style>\n",
       "<table border=\"1\" class=\"dataframe\">\n",
       "  <thead>\n",
       "    <tr style=\"text-align: right;\">\n",
       "      <th></th>\n",
       "      <th>Unnamed: 0</th>\n",
       "      <th>id1</th>\n",
       "      <th>id2</th>\n",
       "      <th>ques1</th>\n",
       "      <th>ques2</th>\n",
       "      <th>is_duplicate</th>\n",
       "    </tr>\n",
       "  </thead>\n",
       "  <tbody>\n",
       "    <tr>\n",
       "      <th>0</th>\n",
       "      <td>0</td>\n",
       "      <td>18546</td>\n",
       "      <td>17606</td>\n",
       "      <td>Why does BADSIG/GPG error keep appearing again...</td>\n",
       "      <td>How to fix GPG error/BADSIG while running apt-...</td>\n",
       "      <td>1</td>\n",
       "    </tr>\n",
       "    <tr>\n",
       "      <th>1</th>\n",
       "      <td>1</td>\n",
       "      <td>214123</td>\n",
       "      <td>144237</td>\n",
       "      <td>How to remove WUBI installed Ubuntu without af...</td>\n",
       "      <td>How do I uninstall Ubuntu Wubi?</td>\n",
       "      <td>1</td>\n",
       "    </tr>\n",
       "    <tr>\n",
       "      <th>2</th>\n",
       "      <td>2</td>\n",
       "      <td>72403</td>\n",
       "      <td>72099</td>\n",
       "      <td>English dictionary in Libreoffice</td>\n",
       "      <td>How to install a LibreOffice Language Tools (S...</td>\n",
       "      <td>1</td>\n",
       "    </tr>\n",
       "    <tr>\n",
       "      <th>3</th>\n",
       "      <td>3</td>\n",
       "      <td>89383</td>\n",
       "      <td>89819</td>\n",
       "      <td>Start Problem with Radeon</td>\n",
       "      <td>Unable to boot 11.10 due to graphic driver pro...</td>\n",
       "      <td>1</td>\n",
       "    </tr>\n",
       "    <tr>\n",
       "      <th>4</th>\n",
       "      <td>4</td>\n",
       "      <td>124786</td>\n",
       "      <td>9933</td>\n",
       "      <td>How to view ubuntu files from windows?</td>\n",
       "      <td>How to read ext4 partitions in Windows?</td>\n",
       "      <td>1</td>\n",
       "    </tr>\n",
       "  </tbody>\n",
       "</table>\n",
       "</div>"
      ],
      "text/plain": [
       "   Unnamed: 0     id1     id2  \\\n",
       "0           0   18546   17606   \n",
       "1           1  214123  144237   \n",
       "2           2   72403   72099   \n",
       "3           3   89383   89819   \n",
       "4           4  124786    9933   \n",
       "\n",
       "                                               ques1  \\\n",
       "0  Why does BADSIG/GPG error keep appearing again...   \n",
       "1  How to remove WUBI installed Ubuntu without af...   \n",
       "2                  English dictionary in Libreoffice   \n",
       "3                          Start Problem with Radeon   \n",
       "4             How to view ubuntu files from windows?   \n",
       "\n",
       "                                               ques2  is_duplicate  \n",
       "0  How to fix GPG error/BADSIG while running apt-...             1  \n",
       "1                    How do I uninstall Ubuntu Wubi?             1  \n",
       "2  How to install a LibreOffice Language Tools (S...             1  \n",
       "3  Unable to boot 11.10 due to graphic driver pro...             1  \n",
       "4            How to read ext4 partitions in Windows?             1  "
      ]
     },
     "execution_count": 2,
     "metadata": {
      "tags": []
     },
     "output_type": "execute_result"
    }
   ],
   "source": [
    "df = pd.read_csv('auDuplicateQues.csv', sep='\\t')\n",
    "df.head()"
   ]
  },
  {
   "cell_type": "code",
   "execution_count": 3,
   "metadata": {
    "colab": {
     "base_uri": "https://localhost:8080/",
     "height": 204
    },
    "colab_type": "code",
    "id": "qCIXV8jZ8VSr",
    "outputId": "c5e501d9-9089-44de-a8a1-34395bcd5325"
   },
   "outputs": [
    {
     "data": {
      "text/html": [
       "<div>\n",
       "<style scoped>\n",
       "    .dataframe tbody tr th:only-of-type {\n",
       "        vertical-align: middle;\n",
       "    }\n",
       "\n",
       "    .dataframe tbody tr th {\n",
       "        vertical-align: top;\n",
       "    }\n",
       "\n",
       "    .dataframe thead th {\n",
       "        text-align: right;\n",
       "    }\n",
       "</style>\n",
       "<table border=\"1\" class=\"dataframe\">\n",
       "  <thead>\n",
       "    <tr style=\"text-align: right;\">\n",
       "      <th></th>\n",
       "      <th>ques1</th>\n",
       "      <th>ques2</th>\n",
       "      <th>is_duplicate</th>\n",
       "    </tr>\n",
       "  </thead>\n",
       "  <tbody>\n",
       "    <tr>\n",
       "      <th>0</th>\n",
       "      <td>Why does BADSIG/GPG error keep appearing again...</td>\n",
       "      <td>How to fix GPG error/BADSIG while running apt-...</td>\n",
       "      <td>1</td>\n",
       "    </tr>\n",
       "    <tr>\n",
       "      <th>1</th>\n",
       "      <td>How to remove WUBI installed Ubuntu without af...</td>\n",
       "      <td>How do I uninstall Ubuntu Wubi?</td>\n",
       "      <td>1</td>\n",
       "    </tr>\n",
       "    <tr>\n",
       "      <th>2</th>\n",
       "      <td>English dictionary in Libreoffice</td>\n",
       "      <td>How to install a LibreOffice Language Tools (S...</td>\n",
       "      <td>1</td>\n",
       "    </tr>\n",
       "    <tr>\n",
       "      <th>3</th>\n",
       "      <td>Start Problem with Radeon</td>\n",
       "      <td>Unable to boot 11.10 due to graphic driver pro...</td>\n",
       "      <td>1</td>\n",
       "    </tr>\n",
       "    <tr>\n",
       "      <th>4</th>\n",
       "      <td>How to view ubuntu files from windows?</td>\n",
       "      <td>How to read ext4 partitions in Windows?</td>\n",
       "      <td>1</td>\n",
       "    </tr>\n",
       "  </tbody>\n",
       "</table>\n",
       "</div>"
      ],
      "text/plain": [
       "                                               ques1  \\\n",
       "0  Why does BADSIG/GPG error keep appearing again...   \n",
       "1  How to remove WUBI installed Ubuntu without af...   \n",
       "2                  English dictionary in Libreoffice   \n",
       "3                          Start Problem with Radeon   \n",
       "4             How to view ubuntu files from windows?   \n",
       "\n",
       "                                               ques2  is_duplicate  \n",
       "0  How to fix GPG error/BADSIG while running apt-...             1  \n",
       "1                    How do I uninstall Ubuntu Wubi?             1  \n",
       "2  How to install a LibreOffice Language Tools (S...             1  \n",
       "3  Unable to boot 11.10 due to graphic driver pro...             1  \n",
       "4            How to read ext4 partitions in Windows?             1  "
      ]
     },
     "execution_count": 3,
     "metadata": {
      "tags": []
     },
     "output_type": "execute_result"
    }
   ],
   "source": [
    "df = df[['ques1', 'ques2', 'is_duplicate']]\n",
    "df.shape\n",
    "df.head()"
   ]
  },
  {
   "cell_type": "code",
   "execution_count": 4,
   "metadata": {
    "colab": {
     "base_uri": "https://localhost:8080/",
     "height": 204
    },
    "colab_type": "code",
    "id": "jJqpHq_I8yAM",
    "outputId": "0cb1bc80-5319-4070-9155-c558579d7de3"
   },
   "outputs": [
    {
     "name": "stdout",
     "output_type": "stream",
     "text": [
      "ques1           0\n",
      "ques2           0\n",
      "is_duplicate    0\n",
      "dtype: int64\n",
      "\n",
      "After preprocessing \n",
      "-------------------\n",
      "ques1           0\n",
      "ques2           0\n",
      "is_duplicate    0\n",
      "dtype: int64\n"
     ]
    }
   ],
   "source": [
    "# Check for any null values\n",
    "print(df.isnull().sum())\n",
    "df = df.dropna()\n",
    "print(\"\\nAfter preprocessing \\n-------------------\")\n",
    "print(df.isnull().sum())"
   ]
  },
  {
   "cell_type": "code",
   "execution_count": 5,
   "metadata": {
    "colab": {
     "base_uri": "https://localhost:8080/",
     "height": 527
    },
    "colab_type": "code",
    "id": "EP4Xcny082Ed",
    "outputId": "78eb9738-e0fd-49c3-c295-f3d8105f3442"
   },
   "outputs": [
    {
     "name": "stdout",
     "output_type": "stream",
     "text": [
      "Why does BADSIG/GPG error keep appearing again and again?\n",
      "How to fix GPG error/BADSIG while running apt-get update?\n",
      "\n",
      "How to remove WUBI installed Ubuntu without affecting Windows files?\n",
      "How do I uninstall Ubuntu Wubi?\n",
      "\n",
      "English dictionary in Libreoffice\n",
      "How to install a LibreOffice Language Tools (Spelling Check, Thesaurus...)\n",
      "\n",
      "Start Problem with Radeon\n",
      "Unable to boot 11.10 due to graphic driver problem with ati Radeon HD6470M o Amd A8 quad core\n",
      "\n",
      "How to view ubuntu files from windows?\n",
      "How to read ext4 partitions in Windows?\n",
      "\n",
      "A great Python IDE for Ubuntu\n",
      "What IDEs are available for Ubuntu?\n",
      "\n",
      "ubuntu 12.4 LTS dualboot with windows xp not working\n",
      "Installing ubuntu onto my 13 year old PC\n",
      "\n",
      "How to get rid of the orange highlight in Unity?\n",
      "How to change color of unity workspace border, and window resize\n",
      "\n",
      "How do I place a folder onto the launcher?\n",
      "How to drag a folder to the launcher from Nautilus\n",
      "\n",
      "Video plays back too quickly, sound problem - Ubuntu 12.04 LTS\n",
      "YouTube movies are playing too fast with chrome\n",
      "\n"
     ]
    }
   ],
   "source": [
    "def print10Ques():\n",
    "    a = 0 \n",
    "    for i in range(a,a+10):\n",
    "        print(df.ques1[i])\n",
    "        print(df.ques2[i])\n",
    "        print()\n",
    "\n",
    "print10Ques()"
   ]
  },
  {
   "cell_type": "code",
   "execution_count": 7,
   "metadata": {
    "colab": {
     "base_uri": "https://localhost:8080/",
     "height": 527
    },
    "colab_type": "code",
    "id": "Ee-3gG7Z9C2P",
    "outputId": "3138bd78-f3cd-4fda-9a6b-28e6f2ebba2e"
   },
   "outputs": [
    {
     "name": "stdout",
     "output_type": "stream",
     "text": [
      "why do badsiggpg error keep appear again again\n",
      "how fix gpg errorbadsig run aptget update\n",
      "\n",
      "how remove wubi instal ubuntu without affect windows file\n",
      "how do pron uninstall ubuntu wubi\n",
      "\n",
      "english dictionary in libreoffice\n",
      "how install libreoffice language tools spelling check thesaurus\n",
      "\n",
      "start problem with radeon\n",
      "unable boot 1110 due graphic driver problem with ati radeon hd6470 m o amd a8 quad core\n",
      "\n",
      "how view ubuntu file from window\n",
      "how read ext4 partition in windows\n",
      "\n",
      "a great python ide ubuntu\n",
      "ide be available ubuntu\n",
      "\n",
      "ubuntu 124 lts dualboot with window xp not work\n",
      "instal ubuntu onto pron 13 year old pc\n",
      "\n",
      "how get rid orange highlight in unity\n",
      "how change color unity workspace border window resize\n",
      "\n",
      "how do pron place folder onto launcher\n",
      "how drag folder launcher from nautilus\n",
      "\n",
      "video play back too quickly sound problem ubuntu 1204 lts\n",
      "youtube movie be play too fast with chrome\n",
      "\n"
     ]
    }
   ],
   "source": [
    "# from pyspark.sql import functions, types\n",
    "# from pyspark.sql.functions import concat, col, lit, udf\n",
    "from nltk.stem.snowball import SnowballStemmer\n",
    "import re\n",
    "import spacy\n",
    "\n",
    "# add spacing at the beginning and end of string\n",
    "def addPadding(string):\n",
    "    return ' '+string+' '\n",
    "    \n",
    "def removeStopWords(text):\n",
    "    stop_words = ['the','a','an','and','but','if','or','because','as','what','which','this','that','these','those','then',\n",
    "              'just','so','than','such','both','through','about','for','is','of','while','during','to','What','Which',\n",
    "              'Is','If','While','This']\n",
    "    \n",
    "    text = text.split()\n",
    "    text = [w for w in text if not w in stop_words]\n",
    "    text = \" \".join(text)\n",
    "    return text\n",
    "\n",
    "def runStemmer(text):\n",
    "    text = text.split()\n",
    "    stemmer = SnowballStemmer('english')\n",
    "    stemmed_words = [stemmer.stem(word) for word in text]\n",
    "    text = \" \".join(stemmed_words)\n",
    "    return text\n",
    "\n",
    "def runLemmatizer(text):\n",
    "    sp = spacy.load('en')\n",
    "    text = sp(text)\n",
    "    text = \" \".join([token.lemma_ for token in text])\n",
    "    return text\n",
    "    \n",
    "# normalize text\n",
    "def normalizeText(text, remStopWords=True, stemWords=False):\n",
    "    text = str(text)\n",
    "    \n",
    "    # Handle known symbols like $, %, &\n",
    "    text = re.sub('\\$', \" dollar \", text)\n",
    "    text = re.sub('\\%', \" percent \", text)\n",
    "    text = re.sub('\\&', \" and \", text)\n",
    "    \n",
    "    # remove remaining punctuation from the text\n",
    "    text = re.sub(r'[^\\w\\s]','', text)\n",
    "    \n",
    "    # replace nonascii characters by word 'nonascii'\n",
    "    text = re.sub('[^\\x00-\\x7F]+', addPadding('nonascii'), text)\n",
    "    \n",
    "    if remStopWords:\n",
    "        text = removeStopWords(text)\n",
    "    \n",
    "    if stemWords:\n",
    "        text = runStemmer(text)\n",
    "        \n",
    "    text = runLemmatizer(text)\n",
    "    text = re.sub(r'[^\\w\\s]','', text)\n",
    "    \n",
    "    # finally, convert all words in text to lower case\n",
    "    result = text.lower()\n",
    "\n",
    "    return result\n",
    "\n",
    "df['ques1'] = df['ques1'].apply(normalizeText, args=(True, False))\n",
    "df['ques2'] = df['ques2'].apply(normalizeText, args=(True, False))\n",
    "\n",
    "a = 0 \n",
    "for i in range(a,a+10):\n",
    "#     print(df.question1[i])\n",
    "    print(df.ques1[i])\n",
    "#     print(df.question2[i])\n",
    "    print(df.ques2[i])\n",
    "    print()"
   ]
  },
  {
   "cell_type": "code",
   "execution_count": 9,
   "metadata": {
    "colab": {
     "base_uri": "https://localhost:8080/",
     "height": 204
    },
    "colab_type": "code",
    "id": "29AxcW9iLz8t",
    "outputId": "eea49e39-1a31-4964-e40a-848ac0533bc5"
   },
   "outputs": [
    {
     "data": {
      "text/html": [
       "<div>\n",
       "<style scoped>\n",
       "    .dataframe tbody tr th:only-of-type {\n",
       "        vertical-align: middle;\n",
       "    }\n",
       "\n",
       "    .dataframe tbody tr th {\n",
       "        vertical-align: top;\n",
       "    }\n",
       "\n",
       "    .dataframe thead th {\n",
       "        text-align: right;\n",
       "    }\n",
       "</style>\n",
       "<table border=\"1\" class=\"dataframe\">\n",
       "  <thead>\n",
       "    <tr style=\"text-align: right;\">\n",
       "      <th></th>\n",
       "      <th>is_duplicate</th>\n",
       "      <th>question1</th>\n",
       "      <th>question2</th>\n",
       "    </tr>\n",
       "  </thead>\n",
       "  <tbody>\n",
       "    <tr>\n",
       "      <th>0</th>\n",
       "      <td>1</td>\n",
       "      <td>why do badsiggpg error keep appear again again</td>\n",
       "      <td>how fix gpg errorbadsig run aptget update</td>\n",
       "    </tr>\n",
       "    <tr>\n",
       "      <th>1</th>\n",
       "      <td>1</td>\n",
       "      <td>how remove wubi instal ubuntu without affect w...</td>\n",
       "      <td>how do pron uninstall ubuntu wubi</td>\n",
       "    </tr>\n",
       "    <tr>\n",
       "      <th>2</th>\n",
       "      <td>1</td>\n",
       "      <td>english dictionary in libreoffice</td>\n",
       "      <td>how install libreoffice language tools spellin...</td>\n",
       "    </tr>\n",
       "    <tr>\n",
       "      <th>3</th>\n",
       "      <td>1</td>\n",
       "      <td>start problem with radeon</td>\n",
       "      <td>unable boot 1110 due graphic driver problem wi...</td>\n",
       "    </tr>\n",
       "    <tr>\n",
       "      <th>4</th>\n",
       "      <td>1</td>\n",
       "      <td>how view ubuntu file from window</td>\n",
       "      <td>how read ext4 partition in windows</td>\n",
       "    </tr>\n",
       "  </tbody>\n",
       "</table>\n",
       "</div>"
      ],
      "text/plain": [
       "   is_duplicate                                          question1  \\\n",
       "0             1     why do badsiggpg error keep appear again again   \n",
       "1             1  how remove wubi instal ubuntu without affect w...   \n",
       "2             1                  english dictionary in libreoffice   \n",
       "3             1                          start problem with radeon   \n",
       "4             1                   how view ubuntu file from window   \n",
       "\n",
       "                                           question2  \n",
       "0          how fix gpg errorbadsig run aptget update  \n",
       "1                  how do pron uninstall ubuntu wubi  \n",
       "2  how install libreoffice language tools spellin...  \n",
       "3  unable boot 1110 due graphic driver problem wi...  \n",
       "4                 how read ext4 partition in windows  "
      ]
     },
     "execution_count": 9,
     "metadata": {
      "tags": []
     },
     "output_type": "execute_result"
    }
   ],
   "source": [
    "# final dataset\n",
    "askUbuntu_df = pd.DataFrame({'question1':df['ques1'], 'question2':df['ques2'], 'is_duplicate': df['is_duplicate']})\n",
    "askUbuntu_df.head()"
   ]
  },
  {
   "cell_type": "code",
   "execution_count": 0,
   "metadata": {
    "colab": {},
    "colab_type": "code",
    "id": "mfWK2G5WM65W"
   },
   "outputs": [],
   "source": [
    "# output dataset as csv file\n",
    "askUbuntu_df.to_csv('preprocessed_AskUbuntu.csv', sep='\\t')"
   ]
  }
 ],
 "metadata": {
  "colab": {
   "name": "preprocessAskUbuntu.ipynb",
   "provenance": [],
   "version": "0.3.2"
  },
  "kernelspec": {
   "display_name": "Python 3",
   "language": "python",
   "name": "python3"
  },
  "language_info": {
   "codemirror_mode": {
    "name": "ipython",
    "version": 3
   },
   "file_extension": ".py",
   "mimetype": "text/x-python",
   "name": "python",
   "nbconvert_exporter": "python",
   "pygments_lexer": "ipython3",
   "version": "3.6.5"
  }
 },
 "nbformat": 4,
 "nbformat_minor": 1
}
