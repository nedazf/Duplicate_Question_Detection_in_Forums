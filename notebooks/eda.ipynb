{
 "cells": [
  {
   "cell_type": "code",
   "execution_count": 27,
   "metadata": {},
   "outputs": [],
   "source": [
    "import pandas as pd\n",
    "import numpy as np\n",
    "\n",
    "df_au = pd.read_csv('auDuplicateQues.csv', sep='\\t')\n",
    "df_au = df_au[['ques1', 'ques2', 'is_duplicate']]"
   ]
  },
  {
   "cell_type": "code",
   "execution_count": 28,
   "metadata": {},
   "outputs": [
    {
     "data": {
      "text/html": [
       "<div>\n",
       "<style scoped>\n",
       "    .dataframe tbody tr th:only-of-type {\n",
       "        vertical-align: middle;\n",
       "    }\n",
       "\n",
       "    .dataframe tbody tr th {\n",
       "        vertical-align: top;\n",
       "    }\n",
       "\n",
       "    .dataframe thead th {\n",
       "        text-align: right;\n",
       "    }\n",
       "</style>\n",
       "<table border=\"1\" class=\"dataframe\">\n",
       "  <thead>\n",
       "    <tr style=\"text-align: right;\">\n",
       "      <th></th>\n",
       "      <th>ques1</th>\n",
       "      <th>ques2</th>\n",
       "      <th>is_duplicate</th>\n",
       "    </tr>\n",
       "  </thead>\n",
       "  <tbody>\n",
       "    <tr>\n",
       "      <th>0</th>\n",
       "      <td>Why does BADSIG/GPG error keep appearing again...</td>\n",
       "      <td>How to fix GPG error/BADSIG while running apt-...</td>\n",
       "      <td>1</td>\n",
       "    </tr>\n",
       "    <tr>\n",
       "      <th>1</th>\n",
       "      <td>How to remove WUBI installed Ubuntu without af...</td>\n",
       "      <td>How do I uninstall Ubuntu Wubi?</td>\n",
       "      <td>1</td>\n",
       "    </tr>\n",
       "    <tr>\n",
       "      <th>2</th>\n",
       "      <td>English dictionary in Libreoffice</td>\n",
       "      <td>How to install a LibreOffice Language Tools (S...</td>\n",
       "      <td>1</td>\n",
       "    </tr>\n",
       "    <tr>\n",
       "      <th>3</th>\n",
       "      <td>Start Problem with Radeon</td>\n",
       "      <td>Unable to boot 11.10 due to graphic driver pro...</td>\n",
       "      <td>1</td>\n",
       "    </tr>\n",
       "    <tr>\n",
       "      <th>4</th>\n",
       "      <td>How to view ubuntu files from windows?</td>\n",
       "      <td>How to read ext4 partitions in Windows?</td>\n",
       "      <td>1</td>\n",
       "    </tr>\n",
       "  </tbody>\n",
       "</table>\n",
       "</div>"
      ],
      "text/plain": [
       "                                               ques1  \\\n",
       "0  Why does BADSIG/GPG error keep appearing again...   \n",
       "1  How to remove WUBI installed Ubuntu without af...   \n",
       "2                  English dictionary in Libreoffice   \n",
       "3                          Start Problem with Radeon   \n",
       "4             How to view ubuntu files from windows?   \n",
       "\n",
       "                                               ques2  is_duplicate  \n",
       "0  How to fix GPG error/BADSIG while running apt-...             1  \n",
       "1                    How do I uninstall Ubuntu Wubi?             1  \n",
       "2  How to install a LibreOffice Language Tools (S...             1  \n",
       "3  Unable to boot 11.10 due to graphic driver pro...             1  \n",
       "4            How to read ext4 partitions in Windows?             1  "
      ]
     },
     "execution_count": 28,
     "metadata": {},
     "output_type": "execute_result"
    }
   ],
   "source": [
    "df_au.head()"
   ]
  },
  {
   "cell_type": "code",
   "execution_count": 32,
   "metadata": {},
   "outputs": [
    {
     "name": "stdout",
     "output_type": "stream",
     "text": [
      "unique questions in question 1 column: 290654\n",
      "unique questions in question 2 column: 290654\n",
      "Overall Unique Questions in the dataset: 537933\n",
      "Total questions in the dataset: 808580\n",
      "Percentage of unique questions: 66.52811100942392\n"
     ]
    }
   ],
   "source": [
    "df_quora = pd.read_csv('quora_duplicate_questions.tsv', sep='\\t')\n",
    "# unique questions in question 1 column\n",
    "unique_ques1 = df_quora['qid1'].unique().tolist()\n",
    "print('unique questions in question 1 column:',len(unique_ques1))\n",
    "# unique questions in question 2 column\n",
    "unique_ques2 = df_quora['qid2'].unique().tolist()\n",
    "print('unique questions in question 2 column:',len(unique_ques1))\n",
    "\n",
    "# Unique questions overall\n",
    "combined_ques = unique_ques1 + unique_ques2\n",
    "num_unique_qs = len(np.unique(combined_ques))\n",
    "print('Overall Unique Questions in the dataset:', num_unique_qs)\n",
    "\n",
    "total_ques = df_quora.shape[0]*2\n",
    "print('Total questions in the dataset:', total_ques)\n",
    "\n",
    "print('Percentage of unique questions:', (num_unique_qs * 100)/total_ques)"
   ]
  },
  {
   "cell_type": "code",
   "execution_count": 40,
   "metadata": {},
   "outputs": [
    {
     "data": {
      "text/html": [
       "<div>\n",
       "<style scoped>\n",
       "    .dataframe tbody tr th:only-of-type {\n",
       "        vertical-align: middle;\n",
       "    }\n",
       "\n",
       "    .dataframe tbody tr th {\n",
       "        vertical-align: top;\n",
       "    }\n",
       "\n",
       "    .dataframe thead th {\n",
       "        text-align: right;\n",
       "    }\n",
       "</style>\n",
       "<table border=\"1\" class=\"dataframe\">\n",
       "  <thead>\n",
       "    <tr style=\"text-align: right;\">\n",
       "      <th></th>\n",
       "      <th>question1</th>\n",
       "      <th>question2</th>\n",
       "      <th>is_duplicate</th>\n",
       "    </tr>\n",
       "  </thead>\n",
       "  <tbody>\n",
       "    <tr>\n",
       "      <th>0</th>\n",
       "      <td>What is the step by step guide to invest in sh...</td>\n",
       "      <td>What is the step by step guide to invest in sh...</td>\n",
       "      <td>0</td>\n",
       "    </tr>\n",
       "    <tr>\n",
       "      <th>1</th>\n",
       "      <td>What is the story of Kohinoor (Koh-i-Noor) Dia...</td>\n",
       "      <td>What would happen if the Indian government sto...</td>\n",
       "      <td>0</td>\n",
       "    </tr>\n",
       "    <tr>\n",
       "      <th>2</th>\n",
       "      <td>How can I increase the speed of my internet co...</td>\n",
       "      <td>How can Internet speed be increased by hacking...</td>\n",
       "      <td>0</td>\n",
       "    </tr>\n",
       "    <tr>\n",
       "      <th>3</th>\n",
       "      <td>Why am I mentally very lonely? How can I solve...</td>\n",
       "      <td>Find the remainder when [math]23^{24}[/math] i...</td>\n",
       "      <td>0</td>\n",
       "    </tr>\n",
       "    <tr>\n",
       "      <th>4</th>\n",
       "      <td>Which one dissolve in water quikly sugar, salt...</td>\n",
       "      <td>Which fish would survive in salt water?</td>\n",
       "      <td>0</td>\n",
       "    </tr>\n",
       "  </tbody>\n",
       "</table>\n",
       "</div>"
      ],
      "text/plain": [
       "                                           question1  \\\n",
       "0  What is the step by step guide to invest in sh...   \n",
       "1  What is the story of Kohinoor (Koh-i-Noor) Dia...   \n",
       "2  How can I increase the speed of my internet co...   \n",
       "3  Why am I mentally very lonely? How can I solve...   \n",
       "4  Which one dissolve in water quikly sugar, salt...   \n",
       "\n",
       "                                           question2  is_duplicate  \n",
       "0  What is the step by step guide to invest in sh...             0  \n",
       "1  What would happen if the Indian government sto...             0  \n",
       "2  How can Internet speed be increased by hacking...             0  \n",
       "3  Find the remainder when [math]23^{24}[/math] i...             0  \n",
       "4            Which fish would survive in salt water?             0  "
      ]
     },
     "execution_count": 40,
     "metadata": {},
     "output_type": "execute_result"
    }
   ],
   "source": [
    "# Selecting only questions and duplicates from the dataset\n",
    "df_quora = df_quora[['question1', 'question2', 'is_duplicate']]\n",
    "df_quora.head()"
   ]
  },
  {
   "cell_type": "code",
   "execution_count": 41,
   "metadata": {},
   "outputs": [
    {
     "data": {
      "text/plain": [
       "<matplotlib.axes._subplots.AxesSubplot at 0x13a7848d0>"
      ]
     },
     "execution_count": 41,
     "metadata": {},
     "output_type": "execute_result"
    },
    {
     "data": {
      "image/png": "[encoded data removed]",
      "text/plain": [
       "<Figure size 432x288 with 1 Axes>"
      ]
     },
     "metadata": {},
     "output_type": "display_data"
    }
   ],
   "source": [
    "# Plot class division\n",
    "df_quora.groupby(\"is_duplicate\").size().plot.bar()"
   ]
  },
  {
   "cell_type": "code",
   "execution_count": 44,
   "metadata": {},
   "outputs": [
    {
     "data": {
      "text/plain": [
       "(404290, 5)"
      ]
     },
     "execution_count": 44,
     "metadata": {},
     "output_type": "execute_result"
    }
   ],
   "source": [
    "def wordCount(text):\n",
    "    tokens = str(text).split()\n",
    "    return len(np.unique(tokens))\n",
    "    \n",
    "df_quora['uniqueWords_q1'] = df_quora['question1'].apply(wordCount)\n",
    "df_quora['uniqueWords_q2'] = df_quora['question2'].apply(wordCount)\n",
    "# df_quora.head()\n",
    "df_quora.shape\n",
    "# list = ['abs', 'abc', 'abs']\n"
   ]
  },
  {
   "cell_type": "code",
   "execution_count": null,
   "metadata": {},
   "outputs": [],
   "source": []
  }
 ],
 "metadata": {
  "kernelspec": {
   "display_name": "Python 3",
   "language": "python",
   "name": "python3"
  },
  "language_info": {
   "codemirror_mode": {
    "name": "ipython",
    "version": 3
   },
   "file_extension": ".py",
   "mimetype": "text/x-python",
   "name": "python",
   "nbconvert_exporter": "python",
   "pygments_lexer": "ipython3",
   "version": "3.6.5"
  }
 },
 "nbformat": 4,
 "nbformat_minor": 2
}
